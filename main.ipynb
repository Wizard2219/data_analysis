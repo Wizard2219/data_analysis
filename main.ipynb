{
 "cells": [
  {
   "cell_type": "markdown",
   "id": "2d0fba298dd4674a",
   "metadata": {},
   "source": [
    "# SailGP Data Analyst Challenge\n",
    "\n",
    "The aim is to test you python abilities. The challenge is to analyze the data provided and answer the questions below. You can use any library you want to help you with the analysis. The data is from the SailGP event in Auckland 2025. The data is in the 'DATA' folder.\n",
    "\n",
    "There are various sources available.\n",
    "\n",
    "The Boat Logs are in the 'Boat_Logs' folder. The data is in csv format and the columns are described in the 'Boat_Logs/Boat_Logs_Columns.csv' file.\n",
    "The 'Course_Marks_2025-01-19.csv' file contains the mark positions and wind reading on the course for the whole day.\n",
    "\n",
    "The Race_XML folder contains the xml files for each race that contains information on where the boundaries of the course are, the theoretical position of the marks and the target racecourse axis.\n",
    "\n",
    "The 2025-01-19_man_summary.csv file contains the metrics from the manoeuvre summary for the day.\n",
    "The 2025-01-19_straight_lines.csv file contains the metrics from the straight line summary for the day.\n",
    "\n",
    "Both are derived from the boat logs.\n",
    "\n",
    "The 2502 m8_APW_HSB2_HSRW.kph.csv file contains the polar data for the boats in that config.\n",
    "\n",
    "## Requierements\n",
    "- Chose at least 3 questions from the list below to answer.\n",
    "- Python 3.8 or higher\n",
    "- Notebook should be able to run without any errors from start to finish.\n",
    "- Specify the libraries (imports) used in the notebook.\n",
    "- Any comments to make the notebook self-explanatory and easy to follow would be appreciated.\n",
    "- If you can't get to the end of a question, we would appreciate the code you have written so far and explain what you were trying to do.\n",
    "\n",
    "## Further information:\n",
    "- We usually use bokeh for visualizations. So any showcase of bokeh would be appreciated.\n",
    "-\n",
    "\n",
    "## Submitting the results.\n",
    "It would be great if you could provide a jupyter notebook with the code and the results of the analysis. You can submit the results by sharing a link to a git repository.\n"
   ]
  },
  {
   "cell_type": "markdown",
   "id": "d2c766dfd4d17a82",
   "metadata": {},
   "source": [
    "### Imports and re-used functions\n",
    "Free section to initialize the notebook with the necessary imports and functions that will be used in the notebook.\n",
    "\n"
   ]
  },
  {
   "cell_type": "code",
   "execution_count": 54,
   "id": "1c3955f6358cd7b3",
   "metadata": {},
   "outputs": [],
   "source": [
    "import numpy as np\n",
    "import pandas as pd\n",
    "import matplotlib.pyplot as plt\n",
    "from bs4 import BeautifulSoup\n",
    "import math\n",
    "\n",
    "\n",
    "''' Choose a race and boat to analyze '''\n",
    "\n",
    "race_number = 25011905  \n",
    "boat = 'SUI'\n",
    "\n",
    "\n",
    "# Import the log files\n",
    "log_file_paths = [\n",
    "    'Data/Boat_logs/data_AUS.csv',\n",
    "    'Data/Boat_logs/data_BRA.csv',\n",
    "    'Data/Boat_logs/data_CAN.csv',\n",
    "    'Data/Boat_logs/data_DEN.csv',\n",
    "    'Data/Boat_logs/data_ESP.csv',\n",
    "    'Data/Boat_logs/data_GBR.csv',\n",
    "    'Data/Boat_logs/data_GER.csv',\n",
    "    'Data/Boat_logs/data_ITA.csv',\n",
    "    'Data/Boat_logs/data_NZL.csv',\n",
    "    'Data/Boat_logs/data_SUI.csv',\n",
    "    'Data/Boat_logs/data_USA.csv',\n",
    "]\n",
    "\n",
    "log_dataframes = {}     # Dictionary of log files\n",
    "for file in log_file_paths:\n",
    "    country = file.replace(\"Data/Boat_logs/data_\", \"\").replace(\".csv\", \"\")  # Extract the country code\n",
    "    df = pd.read_csv(file)   # Read the file\n",
    "    log_dataframes[country] = df    # Store the logs for each country\n",
    "\n",
    "\n",
    "# Load XML File\n",
    "xml_file_path = \"Data/Race_XMLs/25011905_03-13-55.xml\"\n",
    "with open(xml_file_path, \"r\") as f:\n",
    "    soup = BeautifulSoup(f, \"lxml-xml\")  # Use lxml parser\n",
    "\n",
    "# Parse Course XML\n",
    "def parse_course_xml(soup):\n",
    "    \"\"\"Parses the course XML using BeautifulSoup to extract mark locations and sequence.\"\"\"\n",
    "    course_marks = []\n",
    "    for compound_mark in soup.find_all(\"CompoundMark\"):  # Find all compound marks\n",
    "        for mark in compound_mark.find_all(\"Mark\"):  # Find all individual marks within compound marks\n",
    "            course_marks.append({\n",
    "                'id': int(compound_mark[\"CompoundMarkID\"]),  # Extract the compound mark ID, name, lat and lon\n",
    "                'name': mark[\"Name\"], \n",
    "                'lat': float(mark[\"TargetLat\"]),  \n",
    "                'lon': float(mark[\"TargetLng\"])  \n",
    "            })\n",
    "    \n",
    "    # Extract the ordered sequence of marks based on the course rounding sequence\n",
    "    sequence = [int(corner[\"CompoundMarkID\"]) for corner in soup.find_all(\"Corner\")]\n",
    "    \n",
    "    return course_marks, sequence\n",
    "\n",
    "marks, sequence = parse_course_xml(soup)\n",
    "\n",
    "\n",
    "# Distance between two points on a round Earth\n",
    "\n",
    "def distance_between_points(lat1, lon1, lat2, lon2):\n",
    "    \n",
    "    R = 6371000  # Earth radius \n",
    "    phi1, phi2 = np.radians(lat1), np.radians(lat2) # Convert to radians\n",
    "    delta_phi = np.radians(lat2 - lat1) # Calculate the change in latitude\n",
    "    delta_lambda = np.radians(lon2 - lon1)  # Calculate the change in longitude\n",
    "    \n",
    "    a = np.sin(delta_phi / 2.0) ** 2 + np.cos(phi1) * np.cos(phi2) * np.sin(delta_lambda / 2.0) ** 2  # Haversine formula\n",
    "    c = 2 * np.arctan2(np.sqrt(a), np.sqrt(1 - a)) # Calculate the great circle distance\n",
    "    return R * c  # Distance in meters\n",
    "\n",
    "\n",
    "# Distance to the next mark \n",
    "\n",
    "def calculate_distance_to_next_mark(log_dataframes, race_number):\n",
    "    for country, df in log_dataframes.items():\n",
    "        race_df = df[df['TRK_RACE_NUM_unk'] == race_number].copy() # Filter the dataframe for the specific race number\n",
    "        race_df['distance_to_next_mark'] = np.nan  # Initialize the column \n",
    "        \n",
    "        for i in race_df.index:  # Iterate through each column in the dataframe\n",
    "            lat, lon, leg = race_df.loc[i, ['LATITUDE_GPS_unk', 'LONGITUDE_GPS_unk', 'TRK_LEG_NUM_unk']]\n",
    "            leg = int(leg)  # Convert leg number to integer\n",
    "            \n",
    "            if leg < len(sequence):  # Ensure within valid range\n",
    "                target_mark_id = sequence[leg]  # Get the next mark in the sequence\n",
    "                target_mark = next(m for m in marks if m['id'] == target_mark_id)  # Get correct mark from list\n",
    "                distance_to_mark = distance_between_points(lat, lon, target_mark['lat'], target_mark['lon'])  # Calculate distance\n",
    "            else:\n",
    "                distance_to_mark = 0  # If the boat has finished, set distance to 0\n",
    "            \n",
    "            race_df.at[i, 'distance_to_next_mark'] = distance_to_mark  # Store distance \n",
    "        \n",
    "        log_dataframes[country] = race_df  # Update \n",
    "\n",
    "# Function to sync different boat data with the start time - apply once you've extracted the data for one race\n",
    "def synchronize_boat_data(df):\n",
    "    start_index = df[df['PC_TTS_s'] < 0].index.min() # Time to start goes from positive to negative\n",
    "    return df\n"
   ]
  },
  {
   "cell_type": "markdown",
   "id": "f9d166957248f0f7",
   "metadata": {},
   "source": [
    "## Question 1: Write a Python function that can take a compass direction (ie. TWD or Heading) and calculate an accurate mean value across a downsampled frequency. Eg. If TWD is at 1Hz, give me a 10s average."
   ]
  },
  {
   "cell_type": "code",
   "execution_count": 55,
   "id": "75556c527d1bf0c6",
   "metadata": {},
   "outputs": [
    {
     "name": "stdout",
     "output_type": "stream",
     "text": [
      "       TIME_LOCAL_unk  HEADING_deg\n",
      "0 2025-01-19 16:06:00    37.006060\n",
      "1 2025-01-19 16:06:10    60.914908\n",
      "2 2025-01-19 16:06:20    70.824615\n",
      "3 2025-01-19 16:06:30    77.440969\n",
      "4 2025-01-19 16:06:40    87.544429\n",
      "5 2025-01-19 16:06:50    97.262034\n",
      "6 2025-01-19 16:07:00   114.610449\n",
      "7 2025-01-19 16:07:10   116.896025\n",
      "8 2025-01-19 16:07:20   117.085006\n",
      "9 2025-01-19 16:07:30    63.519013\n"
     ]
    },
    {
     "name": "stderr",
     "output_type": "stream",
     "text": [
      "C:\\Users\\fredd\\AppData\\Local\\Temp\\ipykernel_58480\\685738536.py:15: FutureWarning: 'S' is deprecated and will be removed in a future version, please use 's' instead.\n",
      "  downsampled_df = df.resample('10S').apply({direction_column: circular_mean}) # Resample to 10 second intervals and calculate circular mean\n"
     ]
    }
   ],
   "source": [
    "\n",
    "# Function to calculate circular mean for compass directions\n",
    "def circular_mean(angles):\n",
    "    angles_rad = np.deg2rad(angles.dropna())  # Convert to radians\n",
    "    sin_mean = np.mean(np.sin(angles_rad))\n",
    "    cos_mean = np.mean(np.cos(angles_rad))\n",
    "    mean_angle_rad = np.arctan2(sin_mean, cos_mean)  # Compute mean in radians\n",
    "    mean_angle_deg = np.rad2deg(mean_angle_rad)  # Convert back to degrees\n",
    "    return mean_angle_deg % 360  # Make sure the result is within 0 and 360\n",
    "\n",
    "# Step 3: Function to downsample data\n",
    "def downsample(df, time_column, direction_column):\n",
    "    df[time_column] = pd.to_datetime(df[time_column])  # Make sure time is datetime\n",
    "    df.set_index(time_column, inplace=True)  # Set time as index\n",
    "\n",
    "    downsampled_df = df.resample('10S').apply({direction_column: circular_mean}) # Resample to 10 second intervals and calculate circular mean\n",
    "    \n",
    "    return downsampled_df.reset_index()  # Reset index to get time back as a column\n",
    "\n",
    "\n",
    "# Example Usage\n",
    "# Call a specific dataset by country\n",
    "df_downsampled = downsample(log_dataframes[boat], time_column='TIME_LOCAL_unk', direction_column='HEADING_deg')\n",
    "print(df_downsampled.head(10))"
   ]
  },
  {
   "cell_type": "markdown",
   "id": "aa948eea67b6d187",
   "metadata": {},
   "source": [
    "## Question 2: Given a course XML and a timeseries of boat Lat/Lon values, calculate a VMC column for the same timeseries.\n"
   ]
  },
  {
   "cell_type": "code",
   "execution_count": 56,
   "id": "215a1b096ddf991a",
   "metadata": {},
   "outputs": [
    {
     "name": "stdout",
     "output_type": "stream",
     "text": [
      "TIME_LOCAL_unk\n",
      "2025-01-19 16:06:01     6.051192\n",
      "2025-01-19 16:06:02     6.497582\n",
      "2025-01-19 16:06:03     7.800497\n",
      "2025-01-19 16:06:04     8.903854\n",
      "2025-01-19 16:06:05     8.765837\n",
      "2025-01-19 16:06:06     9.732845\n",
      "2025-01-19 16:06:07    10.049996\n",
      "2025-01-19 16:06:08     9.545832\n",
      "2025-01-19 16:06:09     9.460450\n",
      "2025-01-19 16:06:10     9.415283\n",
      "Name: vmc, dtype: float64\n"
     ]
    }
   ],
   "source": [
    "\n",
    "\n",
    "# Function to calculate the VMC for each timestep\n",
    "\n",
    "def calculate_vmc(df, marks, sequence, race_number):\n",
    "    df.loc[df['TRK_RACE_NUM_unk'] == race_number, 'vmc'] = 0.0  # Initialize VMC column only for the selected race\n",
    "    \n",
    "    race_df = df[df['TRK_RACE_NUM_unk'] == race_number] # Filter out this race number\n",
    "    \n",
    "    for i in race_df.index:\n",
    "        lat, lon, heading, speed, leg = df.loc[i, ['LATITUDE_GPS_unk', 'LONGITUDE_GPS_unk', 'GPS_COG_deg', 'GPS_SOG_km_h_1', 'TRK_LEG_NUM_unk']]\n",
    "        leg = int(leg)  # Convert leg number to integer\n",
    "        \n",
    "        if leg - 1 < len(sequence):  # Ensure within valid range\n",
    "            target_mark_id = sequence[leg - 1]  # Get the next mark in the sequence\n",
    "            target_mark = next(m for m in marks if m['id'] == target_mark_id)  # Get correct mark from list\n",
    "            \n",
    "            lat1, lon1, lat2, lon2 = map(math.radians, [lat, lon, target_mark['lat'], target_mark['lon']]) # Convert to radians \n",
    "            delta_lon = lon2 - lon1\n",
    "            \n",
    "            x = math.sin(delta_lon) * math.cos(lat2) # Compute bearing between the two points\n",
    "            y = math.cos(lat1) * math.sin(lat2) - (math.sin(lat1) * math.cos(lat2) * math.cos(delta_lon)) \n",
    "            bearing = math.atan2(x, y)\n",
    "            \n",
    "            mark_vector = np.array([math.sin(bearing), math.cos(bearing)]) # Calculate a mark vector, the direction to the mark\n",
    "\n",
    "            boat_heading_rad = np.radians(heading)  # Convert heading from degrees to radians\n",
    "            boat_vector = np.array([np.sin(boat_heading_rad), np.cos(boat_heading_rad)]) # Calculate the boat vector\n",
    "        \n",
    "            vmc = speed * np.dot(boat_vector, -mark_vector) # Calculate VMC as the projection of boat velocity onto the direction to the mark\n",
    "            df.at[i, 'vmc'] = vmc  # Store VMC value\n",
    "\n",
    "    return df\n",
    "\n",
    "\n",
    "log_dataframes[boat] = calculate_vmc(log_dataframes[boat], marks, sequence, race_number)  # Compute VMC for the race for SUI\n",
    "\n",
    "\n",
    "print(log_dataframes[boat]['vmc'].head(10))  \n"
   ]
  },
  {
   "cell_type": "markdown",
   "id": "59eded55c0230916",
   "metadata": {},
   "source": [
    "## Question 3: Verify and comment on the boats calibration. If possible propose a post-calibrated set of wind numbers and a potential calibration table.\n"
   ]
  },
  {
   "cell_type": "markdown",
   "id": "d83d0be6",
   "metadata": {},
   "source": [
    "There are many ways to go about this section but we will start with the straight line data boat speeds, compass headings and the GPS COG and SOG to verify the calibration of these instruments. Checking the tidal info and assuming there is little current, we should see if there are any disparities between the two and check if they can be attributed to different heel angles (can mess with compass and paddle wheels), boat speeds (can change with paddle wheels), tacks, and if the differences are consistent between boats. \n",
    "\n",
    "Now that we have an accurate idea of the heading and speed, we can begin to adress the wind triangle. We need to know if the angles provided by the wind gear are based off the compass heading or the GPS COG to be able to single out calibration errors in the wind gear.\n",
    "\n",
    "Sorting tacks and gybes into different bins based on the wind speed, we can compare the evolution of the TWD, TWA and AWA from tack to tack. Since the former two are calculated from the AWA, these should be the same between tacks if the calibration is right and the boats are sailing the same angles on each tack. \n",
    "We can also calculate the TWD based on the mean headings before and after tacks and gybes to see if there is any disparity between the change in heading, and the sum of the two TWAs. \n",
    "\n",
    "For TWS, we can sort the up and downwind TWS readings looking at the top mark roundings in the log files, or straight line data that are close in time. If there is a strong disparity between TWS numbers, there can be some calibration issues to adress. We can calculate our own AWA and AWS arrays based on the instruments TWS, TWA and the COG and SOG, and we can compare these to the instruments measured raw AWA and AWS values. The differences will reveal the pre-existing calibration, and whether it should change. An advantage or having other boats and instruments on the marks is that we can observe the differences between them. \n",
    "\n",
    "To adress some calibration errors brought on by directional wind shear, we can check if there are any trends in the sail twist data that reveal differences in trim between tacks. If the sailors are good and there are no other reasons (offset tide, chop, dirty air, sailing a course to avoid an island or boat rather than sailing best VMG), then there could be some differences in twist that could result in errors in TWD. \n",
    "\n",
    "With my dissertation for my masters in meteorology, I have scripts that can estimate the wind shear based on meteorological factors and can help understand the differences between the wind speed at the top of the mast, the marks and the 10 m forecast. \n",
    "\n",
    "Finally, we can adjust the frequencies of the data and filter it to remove outliers. We can also check the VMG data to see any patterns between bad calibration and over/ underperformance on different tacks.\n"
   ]
  },
  {
   "cell_type": "markdown",
   "id": "e9be5cb7d6e14e29",
   "metadata": {},
   "source": [
    "## Question 4: Given a timeseries of Lat/Lon positions and a course XML, in a Python notebook, calculate a Distance to Leader metric for each boat."
   ]
  },
  {
   "cell_type": "code",
   "execution_count": 57,
   "id": "c225a8b3cf1e382e",
   "metadata": {},
   "outputs": [
    {
     "name": "stdout",
     "output_type": "stream",
     "text": [
      "TIME_LOCAL_unk\n",
      "2025-01-19 16:06:01    216.397515\n",
      "2025-01-19 16:06:02    220.446037\n",
      "2025-01-19 16:06:03    223.268016\n",
      "2025-01-19 16:06:04    224.292865\n",
      "2025-01-19 16:06:05    223.574710\n",
      "                          ...    \n",
      "2025-01-19 16:07:36    133.751510\n",
      "2025-01-19 16:07:37    131.317545\n",
      "2025-01-19 16:07:38    129.719884\n",
      "2025-01-19 16:07:39    129.407567\n",
      "2025-01-19 16:07:40    129.999727\n",
      "Name: distance_to_leader, Length: 100, dtype: float64\n"
     ]
    }
   ],
   "source": [
    "# Calculation of distance to finish, uses distance to next mark and adds up the distances between the other ones to the finish\n",
    "\n",
    "def calculate_distance_to_finish(log_dataframes, race_number):\n",
    "    \n",
    "    for country, df in log_dataframes.items(): # Do it for all the countries since we need a leaderboard\n",
    "        race_df = df[df['TRK_RACE_NUM_unk'] == race_number].copy() # Take out a race number\n",
    "        distances = [] # Initialize\n",
    "        for _, row in race_df.iterrows():\n",
    "            lat, lon, leg = row['LATITUDE_GPS_unk'], row['LONGITUDE_GPS_unk'], int(row['TRK_LEG_NUM_unk'])\n",
    "            total_distance = 0  # Initialize \n",
    "            \n",
    "            for next_leg in range(leg, len(sequence)): # For all the legs\n",
    "                next_mark = next(m for m in marks if m['id'] == sequence[next_leg]) # Get the next mark\n",
    "                if next_leg == leg:  # First leg from current position\n",
    "                    total_distance += distance_between_points(lat, lon, next_mark['lat'], next_mark['lon']) # Calculate distance to the next mark\n",
    "                else:  # For all the other legs\n",
    "                    prev_mark = next(m for m in marks if m['id'] == sequence[next_leg - 1])\n",
    "                    total_distance += distance_between_points(prev_mark['lat'], prev_mark['lon'], next_mark['lat'], next_mark['lon']) # Calculate the distance between the other marks \n",
    "            \n",
    "            distances.append(total_distance)\n",
    "        \n",
    "        race_df['distance_to_finish'] = distances\n",
    "        log_dataframes[country] = race_df  # Update the original data structure\n",
    "    \n",
    "    return log_dataframes\n",
    "\n",
    "# Function to calculate the distance to leader\n",
    "\n",
    "def rank_and_distance_to_leader(log_dataframes, race_number):\n",
    "    \n",
    "    log_dataframes = calculate_distance_to_finish(log_dataframes, race_number)  # Calculate the distance to finish\n",
    "\n",
    "    for country, df in log_dataframes.items():\n",
    "        race_df = df[df['TRK_RACE_NUM_unk'] == race_number].copy() # Get the data for one race\n",
    "        race_df = synchronize_boat_data(race_df) # Sync the boats based on the start\n",
    "        race_df['distance_to_leader'] = np.nan  # Initialize \n",
    "\n",
    "        for time in race_df['DATETIME'].unique():  # For each timestep \n",
    "            snapshot = {country: df[df['DATETIME'] == time] for country, df in log_dataframes.items()} # Make snapshots of data\n",
    "            snapshot = {k: v for k, v in snapshot.items() if not v.empty}  # Remove empty snapshots\n",
    "\n",
    "            if snapshot:  # If there\n",
    "                ranked_boats = sorted(snapshot.items(), key=lambda x: x[1]['distance_to_finish'].iloc[0]) #  Rank boats by distance to finish\n",
    "                leader_distance = ranked_boats[0][1]['distance_to_finish'].iloc[0]  # Get leader's distance\n",
    "\n",
    "                for rank, (country, boat_data) in enumerate(ranked_boats): # For each boat and ranking\n",
    "                    if not boat_data.empty:\n",
    "                        distance_to_leader = boat_data['distance_to_finish'].iloc[0] - leader_distance # Calculate distance to leader\n",
    "                        log_dataframes[country].loc[boat_data.index, 'distance_to_leader'] = distance_to_leader # Store distance\n",
    "\n",
    "    return log_dataframes\n",
    "\n",
    "\n",
    "log_dataframes = rank_and_distance_to_leader(log_dataframes, race_number)  # Compute DTL\n",
    "\n",
    "\n",
    "print(log_dataframes[boat]['distance_to_leader'].head(100))  "
   ]
  },
  {
   "cell_type": "markdown",
   "id": "4c23f6f44eac779",
   "metadata": {},
   "source": [
    "## Question 5: Given a course XML, along with a wind speed and direction and a polar, calculate the minimum number of tacks or gybes for each leg of the course and each gate mark on the leg."
   ]
  },
  {
   "cell_type": "code",
   "execution_count": 58,
   "id": "00255ce9",
   "metadata": {},
   "outputs": [
    {
     "data": {
      "text/plain": [
       "\"\\n\\nFunction:\\n        def calculate_new_coordinates\\n            Calculate new coodinates based on the speed and heading for 10 seconds forwards\\n            If the new coordinates are within the boundary coordinates:\\n            continue\\n            If the new coordinates aren't:\\n            If we are on port tack add 90 degrees to the heading, recalculate position\\n            If we are on starboard, take away 90 degrees (assuming we tack and gybe through the same angle)\\n            Count +1 tack/gybe (can seperate tack or gybe)\\n            Calculate a new TWA range\\n        return the new coordinates, the tack/gybe counter, and the TWA range\\n\\n\\n\\nTo make this more simple, we can choose a race number and take an average wind speed and direction from the averages of all the marks data. We can then establish which start mark is closest to the first mark and start from these coordinates.\\n\\nDefine the initial tack to create a TWA range (0-180 or 180 to 360), make the polar TWA range from 0-360, define the marks list, initialise all the apropriate arrays\\n\\nFor each mark:\\n\\n    Calculate the TWA within the current TWA range with the best VMC towards the mark based on the TWS, TWD and mark angle calculated between our current coordinates and the mark coords.\\n\\n    Extract the BSP from the polar and calculate the heading based on TWA and TWD. \\n\\n        Use the calculate_new_coordinates function\\n        If new coordinates are within a certain range of a mark lets say 30m, go to next mark, else repeat the calculate new coordinates function.\\n        add +10 seconds to timer array\\n\\nThis should give us an array of time, lat, lon, twa, bsp, heading and tack and gybe counter.\\n\\n\""
      ]
     },
     "execution_count": 58,
     "metadata": {},
     "output_type": "execute_result"
    }
   ],
   "source": [
    "'''\n",
    "\n",
    "Function:\n",
    "        def calculate_new_coordinates\n",
    "            Calculate new coodinates based on the speed and heading for 10 seconds forwards\n",
    "            If the new coordinates are within the boundary coordinates:\n",
    "            continue\n",
    "            If the new coordinates aren't:\n",
    "            If we are on port tack add 90 degrees to the heading, recalculate position\n",
    "            If we are on starboard, take away 90 degrees (assuming we tack and gybe through the same angle)\n",
    "            Count +1 tack/gybe (can seperate tack or gybe)\n",
    "            Calculate a new TWA range\n",
    "        return the new coordinates, the tack/gybe counter, and the TWA range\n",
    "\n",
    "\n",
    "\n",
    "To make this more simple, we can choose a race number and take an average wind speed and direction from the averages of all the marks data. We can then establish which start mark is closest to the first mark and start from these coordinates.\n",
    "\n",
    "Define the initial tack to create a TWA range (0-180 or 180 to 360), make the polar TWA range from 0-360, define the marks list, initialise all the apropriate arrays\n",
    "\n",
    "For each mark:\n",
    "\n",
    "    Calculate the TWA within the current TWA range with the best VMC towards the mark based on the TWS, TWD and mark angle calculated between our current coordinates and the mark coords.\n",
    "\n",
    "    Extract the BSP from the polar and calculate the heading based on TWA and TWD. \n",
    "\n",
    "        Use the calculate_new_coordinates function\n",
    "        If new coordinates are within a certain range of a mark lets say 30m, go to next mark, else repeat the calculate new coordinates function.\n",
    "        add +10 seconds to timer array\n",
    "\n",
    "This should give us an array of time, lat, lon, twa, bsp, heading and tack and gybe counter.\n",
    "\n",
    "'''"
   ]
  },
  {
   "cell_type": "markdown",
   "id": "49813bad6749aff0",
   "metadata": {},
   "source": [
    "## Question 6: Calculate a “tacked” set of variables depending on the tack of the boat, so that sailors don’t need to think about what tack they’re on when looking at measurements. And show the results in a visualisation.\n"
   ]
  },
  {
   "cell_type": "markdown",
   "id": "fce02496",
   "metadata": {},
   "source": [
    "For this section, I would make number boxes that show the different values. The sailors may want different variables on their screens but the ones that need \"tacking\" mathematically are true and apparent wind angles, heel angles, rudder angle, and foil information. Rather than port and starboard information we make an active and inactive array. We can also make course information with distances, angles, laylines times and distances. These can also change colour and be flipped, between the closest layline and the layline on the other tack - my preference for it to be read first. We can also make some \"what if?\" boxes with the angles on the other tack or gybe. The frequencies of the data coming on the screen also needs some damping for certain arrays. Significant figures can also be adjusted. We can use the polars to calculate targets to display."
   ]
  },
  {
   "cell_type": "markdown",
   "id": "48f959e7cb85e711",
   "metadata": {},
   "source": [
    "## Question 7: Given a set of tacks (in CSV), and train a model to explain the key features of these tacks when optimizing for vmg. Show appropriate visualisations to explain your conclusions."
   ]
  },
  {
   "cell_type": "markdown",
   "id": "8c1e9f05",
   "metadata": {},
   "source": [
    "This would only use the manoeuvre data provided. Starting by filtering out just the tacks and filling blanks with nan values. We can also drop some irrelevant arrays like the gforce. We can also merge the specific port and starboard data for foil drops for example. \n",
    "\n",
    "We can establish what data can be used for testing the model. We have VMG distances along with predictions and target, so establishing the correct arrays and calculating the deltas between predicted and real VMGs, as well as comparing these to the \"loss\" columns are important for understanding what to test against. Some clarification about the calculations behind these arrays would be useful. \n",
    "\n",
    "Then we can train a model to go through each array and establish what constitutes a good or bad tack. We can also visualise data in different ways by sorting the best and wost 10%, 25% or 50% of tacks. \n",
    "\n",
    "This process should indicate the features of a good and bad tack and we can also compare the boats and time since we have these arrays to sort the data. "
   ]
  },
  {
   "cell_type": "markdown",
   "id": "997ddc7b58fdbd02",
   "metadata": {},
   "source": [
    "## Question 8: Give insights on the racing on what made a team win or underperform in the race."
   ]
  },
  {
   "cell_type": "markdown",
   "id": "6748b36a",
   "metadata": {},
   "source": [
    "To decide what made a team win or underperform in a race is very broad, particularly in SailGP with such chaotic racing. It can be useful to watch the races back to see where these exceptional moments happened. The straight line data of a boat might be fantastic, but if they have a crash or had to duck 5 boats at the leeward gate, the race will be compromised.\n",
    "\n",
    "We can start with the starts and order at the first mark. The time, distance and speed to the line can make or break the race, and can have its own analysis. \n",
    "\n",
    "We can also seperate the tacks and gybes performance of each team. The number of tacks and gybes is important too since they cost a lot for these fast boats.\n",
    "\n",
    "Mark roundings are also important with gates being a hot spot for position changes. We can monitor the leaderboard before and after each mark and examine the course to find out which mark was the best for VMC. A loss of position and the wrong mark can lose a race, and a crafty rounding of the right mark and win a race. \n",
    "\n",
    "We can now have a look at the average data for the whole race and legs, VMG, VMC, boat and wind speeds, performance on targets...\n",
    "\n",
    "For this section, we can use functions from most of the previous questions. \n"
   ]
  }
 ],
 "metadata": {
  "kernelspec": {
   "display_name": "yachting",
   "language": "python",
   "name": "python3"
  },
  "language_info": {
   "codemirror_mode": {
    "name": "ipython",
    "version": 3
   },
   "file_extension": ".py",
   "mimetype": "text/x-python",
   "name": "python",
   "nbconvert_exporter": "python",
   "pygments_lexer": "ipython3",
   "version": "3.13.2"
  }
 },
 "nbformat": 4,
 "nbformat_minor": 5
}
